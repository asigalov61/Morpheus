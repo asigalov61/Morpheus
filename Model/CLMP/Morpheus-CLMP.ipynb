{
 "cells": [
  {
   "cell_type": "markdown",
   "metadata": {
    "gradient": {
     "editing": false,
     "id": "ac5a4cf0-d9d2-47b5-9633-b53f8d99a4d2",
     "kernelId": ""
    },
    "id": "SiTIpPjArIyr"
   },
   "source": [
    "# Morpheus CLMP (ver. 1.0)\n",
    "\n",
    "***\n",
    "\n",
    "Powered by tegridy-tools TMIDIX Optimus Processors: https://github.com/asigalov61/tegridy-tools\n",
    "\n",
    "***\n",
    "\n",
    "Credit for GPT2-RGA code used in this colab goes out @ Sashmark97 https://github.com/Sashmark97/midigen and @ Damon Gwinn https://github.com/gwinndr/MusicTransformer-Pytorch\n",
    "\n",
    "***\n",
    "\n",
    "WARNING: This complete implementation is a functioning model of the Artificial Intelligence. Please excercise great humility, care, and respect. https://www.nscai.gov/\n",
    "\n",
    "***\n",
    "\n",
    "#### Project Los Angeles\n",
    "\n",
    "#### Tegridy Code 2021\n",
    "\n",
    "***"
   ]
  },
  {
   "cell_type": "markdown",
   "metadata": {
    "gradient": {
     "editing": false,
     "id": "fa0a611c-1803-42ae-bdf6-a49b5a4e781b",
     "kernelId": ""
    },
    "id": "gOd93yV0sGd2"
   },
   "source": [
    "# (Setup Environment)"
   ]
  },
  {
   "cell_type": "code",
   "execution_count": null,
   "metadata": {
    "cellView": "form",
    "gradient": {
     "editing": false,
     "id": "39411b40-9e39-416e-8fe4-d40f733e7956",
     "kernelId": ""
    },
    "id": "lw-4aqV3sKQG"
   },
   "outputs": [],
   "source": [
    "#@title nvidia-smi gpu check\n",
    "!nvidia-smi"
   ]
  },
  {
   "cell_type": "code",
   "execution_count": null,
   "metadata": {
    "cellView": "form",
    "gradient": {
     "editing": false,
     "id": "a1a45a91-d909-4fd4-b67a-5e16b971d179",
     "kernelId": ""
    },
    "id": "fX12Yquyuihc"
   },
   "outputs": [],
   "source": [
    "#@title Install all dependencies (run only once per session)\n",
    "\n",
    "!git clone https://github.com/asigalov61/tegridy-tools\n",
    "!pip install torch\n",
    "!pip install tqdm"
   ]
  },
  {
   "cell_type": "code",
   "execution_count": null,
   "metadata": {
    "cellView": "form",
    "gradient": {
     "editing": false,
     "id": "b8207b76-9514-4c07-95db-95a4742e52c5",
     "kernelId": ""
    },
    "id": "z7n9vnKmug1J"
   },
   "outputs": [],
   "source": [
    "#@title Import all needed modules\n",
    "\n",
    "print('Loading needed modules. Please wait...')\n",
    "import os\n",
    "import tqdm as tqdm\n",
    "\n",
    "if not os.path.exists('/notebooks/Dataset'):\n",
    "    os.makedirs('/notebooks/Dataset')\n",
    "\n",
    "print('Loading TMIDIX module...')\n",
    "os.chdir('/notebooks/tegridy-tools/tegridy-tools')\n",
    "import TMIDIX\n",
    "\n",
    "os.chdir('/notebooks/tegridy-tools/tegridy-tools')\n",
    "from GPT2RGAX import *\n",
    "\n",
    "os.chdir('/notebooks/')\n",
    "\n",
    "print('Loading complete!!! Enjoy! :)')"
   ]
  },
  {
   "cell_type": "markdown",
   "metadata": {
    "id": "ObPxlEutsQBj"
   },
   "source": [
    "# (MODEL)"
   ]
  },
  {
   "cell_type": "code",
   "execution_count": null,
   "metadata": {},
   "outputs": [],
   "source": [
    "# Download CLMP Model\n",
    "print('Donwloading the model...Please wait...')\n",
    "!wget --no-check-certificate -O 'Morpheus-CLMP-Trained-Model.pth' \"https://onedrive.live.com/download?cid=8A0D502FC99C608F&resid=8A0D502FC99C608F%2118523&authkey=AKWZMkzvZv3WBSo\"\n",
    "print('Donwloaded! Enjoy! :)')"
   ]
  },
  {
   "cell_type": "markdown",
   "metadata": {
    "id": "mdKFoeke9L7H"
   },
   "source": [
    "# (LOAD)"
   ]
  },
  {
   "cell_type": "code",
   "execution_count": null,
   "metadata": {},
   "outputs": [],
   "source": [
    "#@title Load/Reload the model\n",
    "full_path_to_model_checkpoint = \"/notebooks/Morpheus-CLMP-Trained-Model.pth\" #@param {type:\"string\"}\n",
    "\n",
    "print('Loading the model...')\n",
    "config = GPTConfig(5890, \n",
    "                   1024,\n",
    "                   dim_feedforward=1024,\n",
    "                   n_layer=6, \n",
    "                   n_head=8, \n",
    "                   n_embd=1024,\n",
    "                   enable_rpr=True,\n",
    "                   er_len=1024)\n",
    "\n",
    "model = GPT(config).to(get_device())\n",
    "\n",
    "model.load_state_dict(torch.load(full_path_to_model_checkpoint))\n",
    "\n",
    "model.eval()\n",
    "print('Done!')"
   ]
  },
  {
   "cell_type": "markdown",
   "metadata": {
    "id": "UX1_5y5Fu8AH"
   },
   "source": [
    "# (GENERATE MUSIC)"
   ]
  },
  {
   "cell_type": "code",
   "execution_count": null,
   "metadata": {},
   "outputs": [],
   "source": [
    "# Generate CLMP Music\n",
    "\n",
    "# FIRST SAMPLE MAY NOT BE COHERENT, SO PLEASE GENERATE A FEW SAMPLES FOR EACH PROMPT\n",
    "\n",
    "LANGUAGE_INPUT_SEQUENCE = 'Can you feel the love tonight' # English letters only. No special or other chars, please.\n",
    "\n",
    "number_of_instruments = 12 # Change number of instruments if desired (1-12)\n",
    "\n",
    "number_of_tokens_to_generate = 1024 # Up to 1024 tokens\n",
    "\n",
    "temperature = 0.8 # Recommended temperature 0.7-0.8\n",
    "\n",
    "show_stats = False # Set this to True if you need detailed output MIDI stats\n",
    "\n",
    "#===================================================================\n",
    "\n",
    "print('=' * 70)\n",
    "print('Morpheus CLMP Model Generator')\n",
    "print('=' * 70)\n",
    "\n",
    "def str2ints(string):\n",
    "    return [5888] + [ord(y)+(256 * 11)+(256 * 11) for y in string.lower()] + [5888]\n",
    "\n",
    "sequence = str2ints(LANGUAGE_INPUT_SEQUENCE)\n",
    "\n",
    "print('Input SEQ:', LANGUAGE_INPUT_SEQUENCE)\n",
    "print('=' * 70)\n",
    "\n",
    "print('Input SEQ INTs:', sequence)\n",
    "print('=' * 70)\n",
    "\n",
    "print('Generating output...Please wait...')\n",
    "print('=' * 70)\n",
    "\n",
    "tokens_range = (256 * 11) + (256 * number_of_instruments)\n",
    "\n",
    "rand_seq = model.generate(torch.Tensor(sequence), \n",
    "                              target_seq_length=number_of_tokens_to_generate, \n",
    "                              temperature=temperature,\n",
    "                              stop_token=tokens_range,\n",
    "                              verbose=True)\n",
    "\n",
    "out = rand_seq[0].cpu().numpy().tolist()\n",
    "\n",
    "print('Generation complete...')\n",
    "print('=' * 70)\n",
    "\n",
    "print('Converting to MIDI...')\n",
    "print('=' * 70)\n",
    "\n",
    "if len(out) != 0:\n",
    "    song = []\n",
    "    song = out\n",
    "    song_f = []\n",
    "    time = 0\n",
    "    dur = 0\n",
    "    vel = 0\n",
    "    pitch = 0\n",
    "    duration = 0\n",
    "    once = True\n",
    "    for s in song:\n",
    "        if s >= 0 and s <= 256 * 11:\n",
    "            time += s % 256\n",
    "            dur = ((s // 256) + 1) * 250\n",
    "\n",
    "        if s >= 256 * 11 and s < (256 * 21):\n",
    "            if (s // 128) % 2 != 0:\n",
    "                vel = 80 + (s % 256) % 24\n",
    "                channel = ((s-128-(256*11)) // 256)\n",
    "            else:\n",
    "                vel = 64 + (s % 256) % 24\n",
    "                channel = ((s-(256*11)) // 256)\n",
    "\n",
    "            pitch = s % 256\n",
    "\n",
    "            song_f.append(['note', (abs(time))*10, dur, channel, pitch, vel ])\n",
    "\n",
    "    detailed_stats = TMIDIX.Tegridy_SONG_to_MIDI_Converter(song_f,\n",
    "                                                          output_signature = 'Morpheus CLMP',  \n",
    "                                                          output_file_name = '/notebooks/Morpheus-Music-Composition', \n",
    "                                                          track_name='SONG: ' + LANGUAGE_INPUT_SEQUENCE, \n",
    "                                                          number_of_ticks_per_quarter=500)\n",
    "\n",
    "    print('Done!')\n",
    "\n",
    "    if show_stats:\n",
    "        print('=' * 70)\n",
    "        print('Detailed MIDI stats:')\n",
    "        for key, value in detailed_stats.items():\n",
    "            print('=' * 70)\n",
    "            print(key, '|', value)\n",
    "\n",
    "    print('=' * 70)\n",
    "\n",
    "else:\n",
    "    print('Models output is empty! Check the code...')\n",
    "    print('Shutting down...')\n",
    "    print('=' * 70)\n",
    "\n",
    "def ints2string(ints):\n",
    "    return ''.join([chr(y-(256 * 11)-(256 * 11)) for y in ints if y >= (256 * 11)+(256 * 11) and y < 5888 ])\n",
    "\n",
    "print('Detected prompt + text:', ints2string(out))\n",
    "\n",
    "print('=' * 70)"
   ]
  },
  {
   "cell_type": "markdown",
   "metadata": {
    "id": "YzCMd94Tu_gz"
   },
   "source": [
    "# Congrats! You did it! :)"
   ]
  }
 ],
 "metadata": {
  "accelerator": "GPU",
  "colab": {
   "collapsed_sections": [],
   "machine_shape": "hm",
   "name": "[MI] Continuano.ipynb",
   "private_outputs": true,
   "provenance": []
  },
  "kernelspec": {
   "display_name": "Python 3 (ipykernel)",
   "language": "python",
   "name": "python3"
  },
  "language_info": {
   "codemirror_mode": {
    "name": "ipython",
    "version": 3
   },
   "file_extension": ".py",
   "mimetype": "text/x-python",
   "name": "python",
   "nbconvert_exporter": "python",
   "pygments_lexer": "ipython3",
   "version": "3.8.12"
  }
 },
 "nbformat": 4,
 "nbformat_minor": 4
}
